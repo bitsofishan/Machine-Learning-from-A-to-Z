{
 "cells": [
  {
   "cell_type": "markdown",
   "metadata": {},
   "source": [
    "# Introduction"
   ]
  },
  {
   "cell_type": "markdown",
   "metadata": {},
   "source": [
    "The most familiar linear regression is fitting a straight line to the data <b>y=ax+b</b> where a is the <b>slope</b> and b is the <b>intercept</b>"
   ]
  },
  {
   "cell_type": "markdown",
   "metadata": {},
   "source": [
    "hθ(x) = θ0 + θ1*x1 + θ2*x2<br/><br/>\n",
    "where hθ(x) is the hypothesis function<br/>\n",
    "θ0 is the model parameters<br/>\n",
    "x is the feature vector<br/>\n",
    "<br/>\n",
    "In code, we can represent the vector equation as<br/>\n",
    "hθ(x)=np.sum(np.dot(θ,x))"
   ]
  },
  {
   "cell_type": "markdown",
   "metadata": {},
   "source": [
    "# Cost Function"
   ]
  },
  {
   "cell_type": "markdown",
   "metadata": {},
   "source": [
    "In code you can write cost function as <br/>\n",
    "J(θ)=1/2(np.sum(np.square(hθ(x) - y)))"
   ]
  },
  {
   "cell_type": "markdown",
   "metadata": {},
   "source": [
    "# Optimizer(Gradient Descent)"
   ]
  },
  {
   "cell_type": "markdown",
   "metadata": {},
   "source": [
    "Consider this is as the update for reducing the Cost Function"
   ]
  },
  {
   "cell_type": "markdown",
   "metadata": {},
   "source": [
    "# What are Mean Squared Error and Root Mean Squared Error?"
   ]
  },
  {
   "cell_type": "markdown",
   "metadata": {},
   "source": [
    "The Mean Squared Error (MSE) is a measure of how close a fitted line is to data points. For every data point, you take the distance vertically from the point to the corresponding y value on the curve fit (the error), and square the value. Then you add up all those values for all data points, and, in the case of a fit with two parameters such as a linear fit, divide by the number of points minus two.The squaring is done so negative values do not cancel positive values. The smaller the Mean Squared Error, the closer the fit is to the data. The MSE has the units squared of whatever is plotted on the vertical axis.<br/><br/>\n",
    "Another quantity that we calculate is the Root Mean Squared Error (RMSE). It is just the square root of the mean square error. That is probably the most easily interpreted statistic, since it has the same units as the quantity plotted on the vertical axis.\n",
    "\n",
    "Key point: The RMSE is thus the distance, on average, of a data point from the fitted line, measured along a vertical line.\n",
    "\n",
    "The RMSE is directly interpretable in terms of measurement units, and so is a better measure of goodness of fit than a correlation coefficient. One can compare the RMSE to observed variation in measurements of a typical point. The two should be similar for a reasonable fit."
   ]
  },
  {
   "cell_type": "markdown",
   "metadata": {},
   "source": [
    "# Normal Equation"
   ]
  },
  {
   "cell_type": "markdown",
   "metadata": {},
   "source": [
    "θ = (X_Transpose * X)^−1 (X_transpose * y)"
   ]
  },
  {
   "cell_type": "code",
   "execution_count": 14,
   "metadata": {},
   "outputs": [
    {
     "data": {
      "text/plain": [
       "[<matplotlib.lines.Line2D at 0x18ec95dcc08>]"
      ]
     },
     "execution_count": 14,
     "metadata": {},
     "output_type": "execute_result"
    },
    {
     "data": {
      "image/png": "[encoded data removed]",
      "text/plain": [
       "<Figure size 432x288 with 1 Axes>"
      ]
     },
     "metadata": {},
     "output_type": "display_data"
    }
   ],
   "source": [
    "import numpy as np\n",
    "import matplotlib.pyplot as plt \n",
    "import seaborn as sns\n",
    "sns.set()\n",
    "X = 3 * np.random.rand(100, 1)\n",
    "y = 5 + 4 * X + np.random.randn(100, 1)\n",
    "plt.plot(X,y,\"o\")"
   ]
  },
  {
   "cell_type": "code",
   "execution_count": 25,
   "metadata": {},
   "outputs": [],
   "source": [
    "#we need to set x0=1\n",
    "X_data=np.c_[np.ones((100,1)),X]\n",
    "X_data=np.round(X_data,1)\n"
   ]
  },
  {
   "cell_type": "code",
   "execution_count": 21,
   "metadata": {},
   "outputs": [
    {
     "data": {
      "text/plain": [
       "array([[5.02542406],\n",
       "       [4.01353206]])"
      ]
     },
     "execution_count": 21,
     "metadata": {},
     "output_type": "execute_result"
    }
   ],
   "source": [
    "# Solving the normal equation and storing the theta values\n",
    "theta=np.linalg.inv(X_data.T.dot(X_data)).dot(X_data.T).dot(y)\n",
    "theta\n"
   ]
  },
  {
   "cell_type": "markdown",
   "metadata": {},
   "source": [
    "<hr>\n",
    "The predicted theta values are almost identical to the actual theta values we defined when creating the dataset\n",
    "<hr>"
   ]
  },
  {
   "cell_type": "code",
   "execution_count": 23,
   "metadata": {},
   "outputs": [
    {
     "data": {
      "text/plain": [
       "array([[ 5.02542406],\n",
       "       [13.05248817]])"
      ]
     },
     "execution_count": 23,
     "metadata": {},
     "output_type": "execute_result"
    }
   ],
   "source": [
    "#lets predict using this on new dataset\n",
    "X_new = np.array([[0], [2]])\n",
    "X_new_b = np.c_[np.ones((2, 1)), X_new] # add x0 = 1 to each instance\n",
    "y_predict = X_new_b.dot(theta)\n",
    "y_predict\n"
   ]
  },
  {
   "cell_type": "code",
   "execution_count": 24,
   "metadata": {},
   "outputs": [
    {
     "data": {
      "image/png": "[encoded data removed]",
      "text/plain": [
       "<Figure size 432x288 with 1 Axes>"
      ]
     },
     "metadata": {},
     "output_type": "display_data"
    }
   ],
   "source": [
    "#lets plot the predictions\n",
    "plt.plot(X_new, y_predict, \"r-\")\n",
    "plt.plot(X, y, \"b.\")\n",
    "plt.axis([0, 2, 0, 15])\n",
    "plt.show()"
   ]
  },
  {
   "cell_type": "markdown",
   "metadata": {},
   "source": [
    "<h3>Computaional Complexity for Normal Equation<br/></h3>\n",
    "    The Normal Equation computes the inverse of X.T*X, which is an (n + 1) × (n + 1)\n",
    "matrix (where n is the number of features). The computational complexity of inverting\n",
    "such a matrix is typically about <b>O(n2.4) to O(n3) (depending on the implementation)</b>.\n",
    "In other words, if you double the number of features, you multiply the computation\n",
    "time by roughly <b>2^2.4 = 5.3 to 2^3 = 8.\n",
    "    <hr>"
   ]
  },
  {
   "cell_type": "markdown",
   "metadata": {},
   "source": [
    "# LinearRegression with OLS"
   ]
  },
  {
   "cell_type": "code",
   "execution_count": 47,
   "metadata": {},
   "outputs": [],
   "source": [
    "from sklearn.datasets import load_boston\n",
    "from sklearn.linear_model import LinearRegression,Ridge\n",
    "from sklearn.model_selection import train_test_split\n",
    "import matplotlib.pyplot as plt"
   ]
  },
  {
   "cell_type": "code",
   "execution_count": 49,
   "metadata": {},
   "outputs": [],
   "source": [
    "data=load_boston()\n",
    "X_train,X_test,y_train,y_test=train_test_split(data.data,data.target,random_state=1)\n"
   ]
  },
  {
   "cell_type": "code",
   "execution_count": 13,
   "metadata": {},
   "outputs": [
    {
     "data": {
      "image/png": "[encoded data removed]",
      "text/plain": [
       "<Figure size 432x288 with 1 Axes>"
      ]
     },
     "metadata": {
      "needs_background": "light"
     },
     "output_type": "display_data"
    }
   ],
   "source": [
    "lr=LinearRegression()\n",
    "from sklearn.metrics import mean_squared_error\n",
    "from sklearn.model_selection import train_test_split\n",
    "import numpy as np\n",
    "def plot_learning_curves(model, X, y):\n",
    "  X_train, X_val, y_train, y_val = train_test_split(X, y, test_size=0.2)\n",
    "  train_errors, val_errors = [], []\n",
    "  for m in range(1, len(X_train)):\n",
    "   model.fit(X_train[:m], y_train[:m])\n",
    "   y_train_predict = model.predict(X_train[:m])\n",
    "   y_val_predict = model.predict(X_val)\n",
    "   train_errors.append(mean_squared_error(y_train[:m], y_train_predict))\n",
    "   val_errors.append(mean_squared_error(y_val, y_val_predict))\n",
    "  plt.plot(np.sqrt(train_errors), \"r-\", linewidth=2, label=\"train\")\n",
    "  plt.plot(np.sqrt(val_errors), \"b-\", linewidth=3, label=\"val\")\n",
    "  plt.ylabel(\"MSE\")\n",
    "  \n",
    "  plt.xlabel(\"Dataset Size\")\n",
    "plot_learning_curves(lr, data.data, data.target)\n"
   ]
  },
  {
   "cell_type": "markdown",
   "metadata": {},
   "source": [
    "# Polynomial Regression"
   ]
  },
  {
   "cell_type": "code",
   "execution_count": null,
   "metadata": {},
   "outputs": [],
   "source": [
    "from sklearn.pipeline import Pipeline\n",
    "from sklearn.preprocessing import PolynomialFeatures\n",
    "pr = Pipeline([\n",
    " (\"poly_features\", PolynomialFeatures(degree=10, include_bias=False)),\n",
    " (\"lin_reg\", LinearRegression()),\n",
    " ])\n",
    "plot_learning_curves(pr, data.data, data.target)"
   ]
  },
  {
   "cell_type": "code",
   "execution_count": 10,
   "metadata": {},
   "outputs": [
    {
     "name": "stdout",
     "output_type": "stream",
     "text": [
      "0.7066148459555992\n",
      "0.8134720918869054\n"
     ]
    }
   ],
   "source": [
    "print(lr.score(X_train,y_train))\n",
    "print(lr.score(X_test,y_test))"
   ]
  },
  {
   "cell_type": "markdown",
   "metadata": {},
   "source": [
    "# Ridge"
   ]
  },
  {
   "cell_type": "markdown",
   "metadata": {},
   "source": [
    "The hyperparameter α controls how much you want to regularize the model. If α = 0\n",
    "then Ridge Regression is just Linear Regression. If α is very large, then all weights end\n",
    "up very close to zero and the result is a flat line going through the data’s mean.<br/><br/>\n",
    "Note that the bias term θ0\n",
    " is not regularized (the sum starts at i = 1, not 0). If we\n",
    "define w as the vector of feature weights (θ1\n",
    " to θn\n",
    "), then the regularization term is\n",
    "simply equal to ½(∥ w ∥^2\n",
    ")\n",
    ", where ∥ w ∥^2\n",
    " represents the ℓ2 norm of the weight vector.12\n",
    "For Gradient Descent, just add αw to the MSE gradient vector "
   ]
  },
  {
   "cell_type": "markdown",
   "metadata": {},
   "source": [
    "# To implement Ridge with closed form(Normal equation)"
   ]
  },
  {
   "cell_type": "code",
   "execution_count": 12,
   "metadata": {},
   "outputs": [
    {
     "data": {
      "text/plain": [
       "Ridge(alpha=1, solver='cholesky')"
      ]
     },
     "execution_count": 12,
     "metadata": {},
     "output_type": "execute_result"
    }
   ],
   "source": [
    "from sklearn.linear_model import Ridge\n",
    "ridge_reg = Ridge(alpha=1, solver=\"cholesky\")\n",
    "ridge_reg.fit(data.data, data.target)\n",
    "\n"
   ]
  },
  {
   "cell_type": "markdown",
   "metadata": {},
   "source": [
    "As one would expect, the training score is higher than the test score for all dataset\n",
    "sizes, for both ridge and linear regression. Because ridge is regularized, the training\n",
    "score of ridge is lower than the training score for linear regression across the board.\n",
    "However, the test score for ridge is better, particularly for small subsets of the data.\n",
    "For less than 400 data points, linear regression is not able to learn anything. As more\n",
    "and more data becomes available to the model, both models improve, and linear\n",
    "regression catches up with ridge in the end. The lesson here is that with enough train‐\n",
    "ing data, regularization becomes less important, and given enough data, ridge and linear regression will have the same performance (the fact that this happens here\n",
    "when using the full dataset is just by chance). Another interesting aspect is the decrease in training performance for linear regression. If more data\n",
    "is added, it becomes harder for a model to overfit, or memorize the data."
   ]
  },
  {
   "cell_type": "markdown",
   "metadata": {},
   "source": [
    "# Lasso"
   ]
  },
  {
   "cell_type": "markdown",
   "metadata": {},
   "source": [
    "An alternative to Ridge for regularizing linear regression is Lasso. As with ridge\n",
    "regression, using the lasso also restricts coefficients to be close to zero, but in a\n",
    "slightly different way, called L1 regularization.8\n",
    " The consequence of L1 regularization\n",
    "is that when using the lasso, some coefficients are exactly zero. This means some fea‐\n",
    "tures are entirely ignored by the model. This can be seen as a form of automatic fea‐\n",
    "ture selection. Having some coefficients be exactly zero often makes a model easier to\n",
    "interpret, and can reveal the most important features of your model.\n",
    "Let’s apply the lasso to the Boston Housing dataset:"
   ]
  },
  {
   "cell_type": "code",
   "execution_count": 15,
   "metadata": {},
   "outputs": [
    {
     "name": "stdout",
     "output_type": "stream",
     "text": [
      "Training set score: 0.65\n",
      "Test set score: 0.66\n",
      "Number of features used: 9\n"
     ]
    }
   ],
   "source": [
    "from sklearn.linear_model import Lasso\n",
    "import numpy as np\n",
    "lasso = Lasso().fit(X_train, y_train)\n",
    "print(\"Training set score: {:.2f}\".format(lasso.score(X_train, y_train)))\n",
    "print(\"Test set score: {:.2f}\".format(lasso.score(X_test, y_test)))\n",
    "print(\"Number of features used: {}\".format(np.sum(lasso.coef_ != 0)))\n"
   ]
  },
  {
   "cell_type": "markdown",
   "metadata": {},
   "source": [
    "As you can see, Lasso does quite badly, both on the training and the test set. This\n",
    "indicates that we are underfitting, and we find that it used only 4 of the 105 features.\n",
    "Similarly to Ridge, the Lasso also has a regularization parameter, alpha, that controls\n",
    "how strongly coefficients are pushed toward zero. In the previous example, we used\n",
    "the default of alpha=1.0. To reduce underfitting, let’s try decreasing alpha. When we\n",
    "do this, we also need to increase the default setting of max_iter (the maximum num‐\n",
    "ber of iterations to run):"
   ]
  },
  {
   "cell_type": "code",
   "execution_count": 16,
   "metadata": {},
   "outputs": [
    {
     "name": "stdout",
     "output_type": "stream",
     "text": [
      "Training set score: 0.72\n",
      "Test set score: 0.78\n",
      "Number of features used: 13\n"
     ]
    }
   ],
   "source": [
    "lasso = Lasso(alpha=.01,max_iter=10000000).fit(X_train, y_train)\n",
    "print(\"Training set score: {:.2f}\".format(lasso.score(X_train, y_train)))\n",
    "print(\"Test set score: {:.2f}\".format(lasso.score(X_test, y_test)))\n",
    "print(\"Number of features used: {}\".format(np.sum(lasso.coef_ != 0)))"
   ]
  },
  {
   "cell_type": "markdown",
   "metadata": {},
   "source": [
    "# Elastic Net"
   ]
  },
  {
   "cell_type": "markdown",
   "metadata": {},
   "source": [
    "Elastic Net is a middle ground between Ridge Regression and Lasso Regression. The\n",
    "regularization term is a simple mix of both Ridge and Lasso’s regularization terms,\n",
    "and you can control the mix ratio r. When r = 0, Elastic Net is equivalent to Ridge\n",
    "Regression, and when r = 1, it is equivalent to Lasso Regression"
   ]
  },
  {
   "cell_type": "markdown",
   "metadata": {},
   "source": [
    "So when should you use plain Linear Regression (i.e., without any regularization),\n",
    "Ridge, Lasso, or Elastic Net? It is almost always preferable to have at least a little bit of\n",
    "regularization, so generally you should avoid plain Linear Regression. Ridge is a good\n",
    "default, but if you suspect that only a few features are actually useful, you should pre‐\n",
    "fer Lasso or Elastic Net since they tend to reduce the useless features’ weights down to\n",
    "zero as we have discussed. In general, Elastic Net is preferred over Lasso since Lasso\n",
    "may behave erratically when the number of features is greater than the number of\n",
    "training instances or when several features are strongly correlated."
   ]
  },
  {
   "cell_type": "code",
   "execution_count": 20,
   "metadata": {},
   "outputs": [
    {
     "data": {
      "text/plain": [
       "array([30.89726433, 24.74391471, 30.37362147, 29.3502365 , 28.36352809,\n",
       "       26.04689174, 23.31405798, 19.1482989 , 10.64755982, 19.03970125,\n",
       "       18.53069907, 21.90713667, 21.22930111, 21.11805384, 20.35711078,\n",
       "       20.89091916, 22.4162998 , 17.68797051, 17.62847545, 19.54122567,\n",
       "       12.80021536, 18.39593572, 16.07577487, 14.11298804, 16.32025042,\n",
       "       14.21840407, 16.37828997, 15.21199202, 20.13796624, 21.41700821,\n",
       "       11.68377633, 18.73863299,  8.47564284, 14.69115914, 13.6575645 ,\n",
       "       24.05664501, 22.55482289, 23.84416409, 23.54811054, 31.86716351,\n",
       "       34.70492494, 28.33743036, 25.7538995 , 25.02489537, 23.01216898,\n",
       "       22.20635063, 20.18969526, 17.08356899,  7.60182166, 16.9881999 ,\n",
       "       21.21576771, 23.97868311, 28.07984664, 24.52516376, 15.34623444,\n",
       "       31.94684836, 25.95885645, 33.60949549, 23.10098336, 21.96027906,\n",
       "       18.49819328, 18.57082889, 24.67426378, 23.28154452, 23.90014143,\n",
       "       30.27938462, 25.21460021, 21.05261177, 17.03184639, 20.57873467,\n",
       "       24.54109053, 21.0142222 , 24.1765082 , 23.41793003, 24.57806368,\n",
       "       22.63199354, 21.01988154, 21.88056817, 19.79088213, 21.38577851,\n",
       "       28.2868803 , 26.50171336, 26.05893427, 24.98032313, 24.57331617,\n",
       "       27.50430223, 21.84653275, 25.5433751 , 30.34490526, 30.6274364 ,\n",
       "       26.93477339, 27.21896391, 28.01243022, 28.62031443, 25.83886046,\n",
       "       27.91715003, 23.86170054, 34.33006078, 34.1555726 , 31.124351  ,\n",
       "       24.32921976, 25.5328722 , 19.35725938, 20.0166626 , 21.0959081 ,\n",
       "       17.92854303, 16.49367563, 20.2514436 , 22.09161751, 19.18918579,\n",
       "       20.63281121, 25.92953751, 19.99458166, 19.81199463, 24.66279069,\n",
       "       19.71352482, 23.02942535, 23.48286703, 19.79817376, 20.64190861,\n",
       "       21.925466  , 22.2737842 , 20.01363147, 15.25317884, 20.0428655 ,\n",
       "       22.16625543, 13.45389755, 15.39611427, 18.8655974 , 14.29454484,\n",
       "       20.2401272 , 19.7758331 , 20.48865935, 16.26572722, 13.49583105,\n",
       "       17.22075859, 16.04210793, 19.34698952, 13.58481984, 16.2728824 ,\n",
       "       12.97369623,  3.19706596, 15.990253  , 15.26872069, 11.93978399,\n",
       "       14.52818567, 19.43609947, 11.73988413, 12.89966432, 18.25116172,\n",
       "       24.54564338, 22.41763471, 22.94285025, 21.02285647, 24.30879064,\n",
       "       22.01099104, 17.53426205, 32.56357115, 28.62634321, 29.56586283,\n",
       "       30.63177645, 36.0729946 , 37.94367902, 38.87767676, 24.41480907,\n",
       "       24.85598293, 36.09231828, 22.6523143 , 25.61730088, 25.88354777,\n",
       "       21.86853634, 23.79049938, 22.5302482 , 28.6184855 , 26.47144419,\n",
       "       31.01188701, 25.86287458, 29.22401191, 31.04343982, 32.91744258,\n",
       "       33.87340892, 27.80470492, 33.49492588, 30.88420088, 22.61829761,\n",
       "       24.67087463, 35.59331891, 32.09673853, 31.68256649, 33.3055444 ,\n",
       "       30.39117639, 30.0017449 , 32.55686146, 31.80874438, 31.33045803,\n",
       "       40.16982142, 35.33707302, 31.59878984, 33.69849722, 30.24364693,\n",
       "       30.71581859, 28.99366414, 36.4688564 , 41.0917221 , 42.22543474,\n",
       "       22.8464323 , 23.47016434, 17.26058702, 21.36206975, 14.23768463,\n",
       "       19.76708736, 14.22031055, 20.52560037, 25.12892507, 10.13413261,\n",
       "       24.44656912, 24.84914029, 28.02096117, 22.44073736, 27.67017117,\n",
       "       30.56349391, 20.76497718, 29.75119974, 29.35142152, 37.1578673 ,\n",
       "       38.27223558, 36.60467899, 31.71214327, 35.20414263, 31.59339457,\n",
       "       24.29979861, 32.70460251, 37.29099833, 36.30927111, 29.72708002,\n",
       "       25.17728292, 28.14268166, 32.44905271, 28.295524  , 27.96937985,\n",
       "       26.3294595 , 23.0670041 , 23.67254141, 27.73607201, 16.55164694,\n",
       "       13.23824091, 20.5690258 , 19.91529183, 21.44225566, 24.55497118,\n",
       "       24.76901329, 25.82226185, 25.88059184, 30.17703054, 24.53778746,\n",
       "       22.29724824, 36.85951819, 43.63219862, 37.30143403, 36.18636733,\n",
       "       35.78338519, 38.07712263, 41.53602942, 35.11902811, 36.77879159,\n",
       "       30.18421407, 31.90173118, 40.28725689, 39.7905584 , 23.67925384,\n",
       "       22.36002642, 27.72557172, 28.29656293, 33.18964442, 34.20725666,\n",
       "       33.56100019, 33.31984191, 33.12734918, 30.06156241, 34.68112509,\n",
       "       37.59883097, 33.92726824, 37.85746885, 42.0869266 , 31.18819654,\n",
       "       26.82637135, 20.54534917, 26.9427509 , 26.90841695, 26.49234571,\n",
       "       33.47377315, 34.26676113, 31.93526802, 24.91157042, 23.26659258,\n",
       "       27.44851323, 26.18251082, 18.21532933, 29.0811294 , 31.58965892,\n",
       "       30.16436265, 28.00986667, 28.22949006, 32.16488564, 33.25764171,\n",
       "       30.68902159, 35.02924064, 32.45337141, 29.10785055, 24.00685991,\n",
       "       19.44499659, 27.56253296, 23.35360498, 25.94758318, 25.68049351,\n",
       "       21.23201137, 17.65972617, 18.77303113, 24.65220891, 21.86844662,\n",
       "       25.35212499, 25.3710546 , 23.5862355 , 19.85953103, 25.81961451,\n",
       "       25.83914696, 24.73042416, 19.91302801, 21.04865792, 24.12431433,\n",
       "       21.51193639, 20.15140966, 23.68202241, 24.245285  , 23.58108167,\n",
       "       22.60168971, 21.79085636, 20.85081585, 23.73292973, 22.70337119,\n",
       "       22.82203543, 30.30449923, 22.72063374, 28.15654375, 29.52135051,\n",
       "       17.07148901, 15.17405934, 26.19808896, 28.62029691, 23.24182095,\n",
       "       21.72299567, 21.68795515, 18.39255156, 27.42851104, 16.78149187,\n",
       "       19.09657832, 19.71534575, 23.1437752 , 23.04615588, 21.61245774,\n",
       "       25.21345558, 20.98000132, 20.98717678, 20.70367391, 36.11691924,\n",
       "       17.26016116, 17.21597493, 11.44489138, 24.57477128, 30.76878593,\n",
       "       32.56939669, 24.54290871, 24.84463791,  5.29415481,  0.18627316,\n",
       "       24.87891608, 16.95126539, 19.44852072, 15.23837301, 16.38992963,\n",
       "       14.48432647, 17.93613934, 13.73552078, 13.28465014,  3.7639164 ,\n",
       "        8.01309665,  6.67251699,  5.78030348,  6.63778012, 14.84269685,\n",
       "       18.00428664, 17.94342085, 10.42335195, 20.77428073, 18.59682198,\n",
       "       20.48846251, 19.3395692 , 16.68265472,  6.47314145, 10.54987886,\n",
       "       11.70955599, 17.82500561, 18.21001178, 13.74030353,  7.62335028,\n",
       "        8.77118204,  8.40190107, 20.2597466 , 11.85275901, 17.75006047,\n",
       "       14.60113894, 14.78218362, -0.25355708, 10.79651725, -4.40133553,\n",
       "        8.52382669, 12.35923048,  6.80096592,  6.39598185, 14.62125934,\n",
       "       20.41513001, 19.1254752 , 18.10319124, 11.64103576, 13.452121  ,\n",
       "        9.53378343, 15.23615988, 14.53800827, 14.04798568, 12.4039321 ,\n",
       "       16.43776477, 16.50962939, 20.3005499 , 17.70003772, 16.81633951,\n",
       "       13.82426114, 15.40711623,  9.17663528,  4.88460582, 14.20372718,\n",
       "       13.9171792 , 18.28838109, 19.98688151, 19.01175565, 12.38616344,\n",
       "       12.39023713, 18.77633524, 19.47937179, 18.30818822, 17.70730817,\n",
       "       16.83642822, 19.94378435, 19.4173628 , 22.73744597, 15.57736024,\n",
       "       16.3073876 , 13.41955548, 13.92493183, 18.22975072, 19.8393063 ,\n",
       "       19.71601962, 21.23411211, 21.03642297, 23.81078241, 20.88716982,\n",
       "       18.72674077, 14.34132786, 15.35413293, 16.00378701, 18.060965  ,\n",
       "       19.05095474, 21.19046676, 21.35327766, 24.92140993, 15.35534795,\n",
       "       14.10087588, 19.38206273, 10.55066159, 18.23413733, 21.26787988,\n",
       "       22.14768107, 25.6036662 , 26.96326467, 20.41873065, 19.27712088,\n",
       "       22.02270846, 18.91041124, 21.04046182, 10.63255104,  6.49236337,\n",
       "        1.69773759, 12.20232903, 14.91763747, 21.61326566, 21.45212963,\n",
       "       17.80192377, 14.4801444 , 19.91299529, 21.96321712, 19.14202588,\n",
       "       20.938057  , 24.42383791, 23.45981492, 28.33883431, 26.95582537,\n",
       "       23.59812944])"
      ]
     },
     "execution_count": 20,
     "metadata": {},
     "output_type": "execute_result"
    }
   ],
   "source": [
    "from sklearn.linear_model import ElasticNet\n",
    "elastic_net = ElasticNet(alpha=0.1, l1_ratio=0.5)\n",
    "elastic_net.fit(data.data, data.target)\n",
    "elastic_net.predict(data.data)\n"
   ]
  },
  {
   "cell_type": "markdown",
   "metadata": {},
   "source": [
    "# Early Stopping"
   ]
  },
  {
   "cell_type": "code",
   "execution_count": null,
   "metadata": {},
   "outputs": [],
   "source": [
    "from sklearn.base import clone\n",
    "from sklearn.pipeline import Pipeline\n",
    "from sklearn.preprocessing import PolynomialFeatures,StandardScaler\n",
    "# prepare the data\n",
    "poly_scaler = Pipeline([\n",
    " (\"poly_features\", PolynomialFeatures(degree=90, include_bias=False)),\n",
    " (\"std_scaler\", StandardScaler())\n",
    " ])\n",
    "X_train_poly_scaled = poly_scaler.fit_transform(X_train)\n",
    "X_val_poly_scaled = poly_scaler.transform(X_val)\n",
    "sgd_reg = SGDRegressor(max_iter=1, tol=-np.infty, warm_start=True,\n",
    "penalty=None, learning_rate=\"constant\", eta0=0.0005)\n",
    "minimum_val_error = float(\"inf\")\n",
    "best_epoch = None\n",
    "best_model = None\n",
    "for epoch in range(1000):\n",
    " sgd_reg.fit(X_train_poly_scaled, y_train) # continues where it left off\n",
    " y_val_predict = sgd_reg.predict(X_val_poly_scaled)\n",
    " val_error = mean_squared_error(y_val, y_val_predict)\n",
    " if val_error < minimum_val_error:\n",
    "  minimum_val_error = val_error\n",
    "  best_epoch = epoch\n",
    "  best_model = clone(sgd_reg)\n"
   ]
  },
  {
   "cell_type": "code",
   "execution_count": null,
   "metadata": {},
   "outputs": [],
   "source": [
    "print(best_model)"
   ]
  },
  {
   "cell_type": "markdown",
   "metadata": {},
   "source": [
    "# Gradient Descent\n"
   ]
  },
  {
   "cell_type": "markdown",
   "metadata": {},
   "source": [
    "<b>Equation of Partial derivatives of the cost function<br/></b>\n",
    "∂MSE (θ) / ∂θj = (2 / m) ∑ (θ.T*xi− yi) xj<br/>\n",
    " <b>Gradient Descent step</b><br/>\n",
    "θ(of_next_step) = θ − η∇θ MSE(θ)"
   ]
  },
  {
   "cell_type": "code",
   "execution_count": 31,
   "metadata": {},
   "outputs": [
    {
     "name": "stdout",
     "output_type": "stream",
     "text": [
      "[[5.02542406]\n",
      " [4.01353206]]\n"
     ]
    }
   ],
   "source": [
    "lr = 0.1 # learning rate\n",
    "n_iterations = 1000\n",
    "m = 100\n",
    "theta = np.random.randn(2,1)\n",
    "for iteration in range(n_iterations):\n",
    " gradients = 2/m * X_data.T.dot(X_data.dot(theta) - y)\n",
    " theta = theta - lr * gradients\n",
    "print(theta)"
   ]
  },
  {
   "cell_type": "markdown",
   "metadata": {},
   "source": [
    "<b>Using Sklearn "
   ]
  },
  {
   "cell_type": "code",
   "execution_count": 42,
   "metadata": {},
   "outputs": [],
   "source": [
    "from sklearn.linear_model import SGDRegressor\n",
    "sgd=SGDRegressor(max_iter=2000,tol=0.00001,eta0=0.01,penalty=\"l2\")\n",
    "#or\n",
    "#ridge=Ridge(solver=\"sag\")"
   ]
  },
  {
   "cell_type": "code",
   "execution_count": 43,
   "metadata": {},
   "outputs": [
    {
     "name": "stderr",
     "output_type": "stream",
     "text": [
      "C:\\Users\\Ishan\\anaconda3\\lib\\site-packages\\sklearn\\utils\\validation.py:73: DataConversionWarning: A column-vector y was passed when a 1d array was expected. Please change the shape of y to (n_samples, ), for example using ravel().\n",
      "  return f(**kwargs)\n"
     ]
    },
    {
     "data": {
      "text/plain": [
       "SGDRegressor(max_iter=2000, tol=1e-05)"
      ]
     },
     "execution_count": 43,
     "metadata": {},
     "output_type": "execute_result"
    }
   ],
   "source": [
    "sgd.fit(X,y.reshape(-1,1))"
   ]
  },
  {
   "cell_type": "code",
   "execution_count": 44,
   "metadata": {},
   "outputs": [
    {
     "data": {
      "text/plain": [
       "(array([4.8189446]), array([4.12133943]))"
      ]
     },
     "execution_count": 44,
     "metadata": {},
     "output_type": "execute_result"
    }
   ],
   "source": [
    "sgd.intercept_, sgd.coef_\n"
   ]
  }
 ],
 "metadata": {
  "kernelspec": {
   "display_name": "Python 3",
   "language": "python",
   "name": "python3"
  },
  "language_info": {
   "codemirror_mode": {
    "name": "ipython",
    "version": 3
   },
   "file_extension": ".py",
   "mimetype": "text/x-python",
   "name": "python",
   "nbconvert_exporter": "python",
   "pygments_lexer": "ipython3",
   "version": "3.7.6"
  }
 },
 "nbformat": 4,
 "nbformat_minor": 4
}

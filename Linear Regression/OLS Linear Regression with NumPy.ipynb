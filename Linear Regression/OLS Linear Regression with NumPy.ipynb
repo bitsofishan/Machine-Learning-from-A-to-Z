{
 "cells": [
  {
   "cell_type": "markdown",
   "metadata": {},
   "source": [
    "# OLS Regression with single feature "
   ]
  },
  {
   "cell_type": "code",
   "execution_count": 34,
   "metadata": {},
   "outputs": [],
   "source": [
    "#importing Libraries\n",
    "import numpy as np\n",
    "import matplotlib.pyplot as plt\n",
    "import seaborn as sns\n",
    "sns.set()\n",
    "%matplotlib inline"
   ]
  },
  {
   "cell_type": "code",
   "execution_count": 38,
   "metadata": {},
   "outputs": [],
   "source": [
    "# Scikit learn implements ordinary least squares regression in the LinearRegression class, we do the same\n",
    "def ols(x,y):\n",
    "    #taking the len of x which gives the number of samples\n",
    "    n=len(x)\n",
    "    \n",
    "    #taking mean\n",
    "    x_mean,y_mean=np.mean(x),np.mean(y)\n",
    "    \n",
    "    #finding the numerator and denominator values for b1\n",
    "    ss_xy=np.sum(y*x)-n*x_mean*y_mean\n",
    "    ss_xx=np.sum(x*x)-n*x_mean*x_mean\n",
    "    \n",
    "    b1=ss_xy/ss_xx\n",
    "    \n",
    "    #Now that we have b1, we can find b0\n",
    "    b0=y_mean-b1*x_mean\n",
    "    \n",
    "    return b0,b1\n",
    "\n",
    "    \n",
    "    "
   ]
  },
  {
   "cell_type": "code",
   "execution_count": 41,
   "metadata": {},
   "outputs": [],
   "source": [
    "#to plot the best fit line \n",
    "def plot_regression_line(x,y,b):\n",
    "    plt.scatter(x,y,s=30)\n",
    "    y_pred=b[1]*x+b[0]\n",
    "    plt.plot(x,y_pred)\n",
    "    plt.show()"
   ]
  },
  {
   "cell_type": "code",
   "execution_count": 42,
   "metadata": {},
   "outputs": [
    {
     "data": {
      "image/png": "[encoded data removed]",
      "text/plain": [
       "<Figure size 432x288 with 1 Axes>"
      ]
     },
     "metadata": {
      "needs_background": "light"
     },
     "output_type": "display_data"
    }
   ],
   "source": [
    "x = np.array([0, 1, 2, 3, 4, 5, 6, 7, 8, 9]) \n",
    "y = np.array([1, 3, 2, 5, 7, 8, 8, 9, 10, 12])\n",
    "b=ols(x,y)\n",
    "plot_regression_line(x,y,b)"
   ]
  },
  {
   "cell_type": "markdown",
   "metadata": {},
   "source": [
    "# OLS Regression for Multiple feature"
   ]
  },
  {
   "cell_type": "code",
   "execution_count": 168,
   "metadata": {},
   "outputs": [],
   "source": [
    "#importing data\n",
    "data=pd.read_csv(r\"C:\\Users\\Ishan\\Documents\\Python Scripts\\Datasets\\BostonHousing.csv\")\n",
    "X=data.iloc[:,:-1]\n",
    "y=data.iloc[:,-1]\n",
    "X=np.array(X)"
   ]
  },
  {
   "cell_type": "markdown",
   "metadata": {},
   "source": [
    "<hr>\n",
    "This time, we will try to do this using classes and objects\n",
    "<hr>"
   ]
  },
  {
   "cell_type": "code",
   "execution_count": 169,
   "metadata": {},
   "outputs": [],
   "source": [
    "class OLS(object):\n",
    "    \n",
    "    def __init__(self):\n",
    "        self.coeff=[]\n",
    "    #fit function for applying our model to the data\n",
    "    def fit(self,X,y):\n",
    "        if len(X.shape)==1: X=self._reshape_x(X)\n",
    "        X=self.add_one_column(X)\n",
    "        self.coeff=np.linalg.inv(X.transpose().dot(X)).dot(X.transpose()).dot(y)\n",
    "    #converting a 1D array in 2D\n",
    "    def _reshape_x(self,X):\n",
    "        return X.reshape(-1,1)\n",
    "    #adding first column x0=1\n",
    "    def add_one_column(self,X):\n",
    "        ones=np.ones(shape=X.shape[0]).reshape(-1,1)\n",
    "        return np.concatenate((ones,X),1)\n",
    "    # prediction for new/test data\n",
    "    def predict(self,entry):\n",
    "        b0=self.coeff[0]\n",
    "        other_betas=self.coeff[1:]\n",
    "        prediction=b0\n",
    "        \n",
    "        for xi,bi in zip(entry,other_betas): prediction+=(bi*xi)\n",
    "        return prediction\n",
    "        \n",
    "        \n",
    "    "
   ]
  },
  {
   "cell_type": "code",
   "execution_count": 145,
   "metadata": {},
   "outputs": [],
   "source": [
    "#creating an instance of our OLS class and fitting the boston housing data to it\n",
    "model=OLS()\n",
    "model.fit(X,y)"
   ]
  },
  {
   "cell_type": "code",
   "execution_count": 146,
   "metadata": {},
   "outputs": [
    {
     "data": {
      "text/plain": [
       "array([ 3.64594884e+01, -1.08011358e-01,  4.64204584e-02,  2.05586264e-02,\n",
       "        2.68673382e+00, -1.77666112e+01,  3.80986521e+00,  6.92224640e-04,\n",
       "       -1.47556685e+00,  3.06049479e-01, -1.23345939e-02, -9.52747232e-01,\n",
       "        9.31168327e-03, -5.24758378e-01])"
      ]
     },
     "execution_count": 146,
     "metadata": {},
     "output_type": "execute_result"
    }
   ],
   "source": [
    "#model coeffeciants for each feature column\n",
    "model.coeff"
   ]
  },
  {
   "cell_type": "markdown",
   "metadata": {},
   "source": [
    "NOTE: We should create a test set for checking our model performance but since that is not the main topic here, and hence we have not divided the dataset into train and test sets"
   ]
  },
  {
   "cell_type": "code",
   "execution_count": 161,
   "metadata": {},
   "outputs": [
    {
     "data": {
      "text/plain": [
       "30.00384337701705"
      ]
     },
     "execution_count": 161,
     "metadata": {},
     "output_type": "execute_result"
    }
   ],
   "source": [
    "#prediction for test data\n",
    "model.predict(X[0])\n"
   ]
  },
  {
   "cell_type": "code",
   "execution_count": 164,
   "metadata": {},
   "outputs": [],
   "source": [
    "y_pred=[]\n",
    "for row in X:\n",
    "    y_pred.append(model.predict(row))\n"
   ]
  },
  {
   "cell_type": "code",
   "execution_count": 170,
   "metadata": {},
   "outputs": [
    {
     "data": {
      "text/plain": [
       "<matplotlib.axes._subplots.AxesSubplot at 0x231f97360c8>"
      ]
     },
     "execution_count": 170,
     "metadata": {},
     "output_type": "execute_result"
    },
    {
     "data": {
      "image/png": "[encoded data removed]",
      "text/plain": [
       "<Figure size 432x288 with 1 Axes>"
      ]
     },
     "metadata": {
      "needs_background": "light"
     },
     "output_type": "display_data"
    }
   ],
   "source": [
    "\n",
    "sns.distplot(y-y_pred)"
   ]
  },
  {
   "cell_type": "markdown",
   "metadata": {},
   "source": [
    "# Refrences"
   ]
  },
  {
   "cell_type": "markdown",
   "metadata": {},
   "source": [
    "- https://www.geeksforgeeks.org/linear-regression-python-implementation/\n",
    "- https://towardsdatascience.com/multiple-linear-regression-from-scratch-in-numpy-36a3e8ac8014#:~:text=Linear%20regression%20is%20probably%20the,of%2Dthe%2Dbox%20solution."
   ]
  }
 ],
 "metadata": {
  "kernelspec": {
   "display_name": "Python 3",
   "language": "python",
   "name": "python3"
  },
  "language_info": {
   "codemirror_mode": {
    "name": "ipython",
    "version": 3
   },
   "file_extension": ".py",
   "mimetype": "text/x-python",
   "name": "python",
   "nbconvert_exporter": "python",
   "pygments_lexer": "ipython3",
   "version": "3.7.6"
  }
 },
 "nbformat": 4,
 "nbformat_minor": 4
}

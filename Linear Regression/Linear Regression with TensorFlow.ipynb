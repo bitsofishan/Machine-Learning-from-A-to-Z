{
 "cells": [
  {
   "cell_type": "markdown",
   "metadata": {},
   "source": [
    "# Linear Regression with Gradient Descent in Tensorflow"
   ]
  },
  {
   "cell_type": "code",
   "execution_count": 30,
   "metadata": {},
   "outputs": [],
   "source": [
    "#importing Libraries\n",
    "import numpy as np\n",
    "import pandas as pd\n",
    "import matplotlib.pyplot as plt \n",
    "import seaborn as sns\n",
    "sns.set()\n",
    "\n",
    "import tensorflow as tf\n",
    "from tensorflow.keras.datasets import boston_housing"
   ]
  },
  {
   "cell_type": "code",
   "execution_count": 31,
   "metadata": {},
   "outputs": [],
   "source": [
    "#Impleting using class and objects\n",
    "class GDLinearRegression:\n",
    "    def __init__(self, initializer='random'):\n",
    "        #Intializer for value depends upon the input\n",
    "        if initializer=='ones':\n",
    "            self.var = 1.\n",
    "        elif initializer=='zero':\n",
    "            self.var = 0.\n",
    "        elif initializer=='random':\n",
    "            #uniform distribution\n",
    "            self.var = tf.random.uniform(shape=[], minval=0., maxval=1.)\n",
    "        else:\n",
    "            print('Not defined Initailizer. Allowed Intializers : \"one\",\"zero\",\"random\"')\n",
    "            quit()\n",
    "            \n",
    "        self.m = tf.Variable(self.var, shape=tf.TensorShape(None))\n",
    "        self.b = tf.Variable(self.var)\n",
    "        \n",
    "    def predict(self, X):\n",
    "        return tf.reduce_sum(self.m * X, 1) + self.b\n",
    "    #loss is mean_squared_error\n",
    "    def mse(self, true, predicted):\n",
    "        return tf.reduce_mean(tf.square(true-predicted))\n",
    "    \n",
    "    def update(self, X, y, lr):\n",
    "        with tf.GradientTape(persistent=True) as g:\n",
    "            loss = self.mse(y, self.predict(X))\n",
    "            \n",
    "        print(\"Loss: \", loss)\n",
    "        #calculates the gradients for both m and b\n",
    "        dy_dm = g.gradient(loss, self.m)\n",
    "        dy_db = g.gradient(loss, self.b)\n",
    "        #the gradient is multiplied with learning rate and the old value is subtarted from the new value (lr*gradient) \n",
    "        self.m.assign_sub(lr * dy_dm)\n",
    "        self.b.assign_sub(lr * dy_db)\n",
    "    \n",
    "    def train(self, X, y, lr=0.01, epochs=5):\n",
    "        #check if input data is 1D, if yes change it to 2D\n",
    "        if len(X.shape)==1:\n",
    "            X=tf.reshape(X,[X.shape[0],1])\n",
    "        \n",
    "        self.m.assign([self.var]*X.shape[-1])\n",
    "        \n",
    "        for i in range(epochs):\n",
    "            print(\"Epoch: \", i)\n",
    "            \n",
    "            self.update(X, y, lr)"
   ]
  },
  {
   "cell_type": "code",
   "execution_count": 32,
   "metadata": {},
   "outputs": [],
   "source": [
    "#splitting the data into train test splits\n",
    "(X_train, y_train), (X_test, y_test) = boston_housing.load_data()"
   ]
  },
  {
   "cell_type": "code",
   "execution_count": 33,
   "metadata": {},
   "outputs": [],
   "source": [
    "#Standard Scaling the data(can be done using sklearn.preprocessing.StandardScaler())\n",
    "mean_label = y_train.mean(axis=0)\n",
    "std_label = y_train.std(axis=0)\n",
    "mean_feat = X_train.mean(axis=0)\n",
    "std_feat = X_train.std(axis=0)\n",
    "X_train_norm = (X_train-mean_feat)/std_feat\n",
    "y_train_norm = (y_train-mean_label)/std_label"
   ]
  },
  {
   "cell_type": "code",
   "execution_count": 34,
   "metadata": {},
   "outputs": [
    {
     "name": "stdout",
     "output_type": "stream",
     "text": [
      "Epoch:  0\n",
      "Loss:  tf.Tensor(1.0, shape=(), dtype=float32)\n",
      "Epoch:  1\n",
      "Loss:  tf.Tensor(0.52037114, shape=(), dtype=float32)\n",
      "Epoch:  2\n",
      "Loss:  tf.Tensor(0.42164913, shape=(), dtype=float32)\n",
      "Epoch:  3\n",
      "Loss:  tf.Tensor(0.37224513, shape=(), dtype=float32)\n",
      "Epoch:  4\n",
      "Loss:  tf.Tensor(0.34227636, shape=(), dtype=float32)\n",
      "Epoch:  5\n",
      "Loss:  tf.Tensor(0.32331648, shape=(), dtype=float32)\n",
      "Epoch:  6\n",
      "Loss:  tf.Tensor(0.31094158, shape=(), dtype=float32)\n",
      "Epoch:  7\n",
      "Loss:  tf.Tensor(0.3025783, shape=(), dtype=float32)\n",
      "Epoch:  8\n",
      "Loss:  tf.Tensor(0.29670173, shape=(), dtype=float32)\n",
      "Epoch:  9\n",
      "Loss:  tf.Tensor(0.29239812, shape=(), dtype=float32)\n",
      "Epoch:  10\n",
      "Loss:  tf.Tensor(0.28911322, shape=(), dtype=float32)\n",
      "Epoch:  11\n",
      "Loss:  tf.Tensor(0.2865066, shape=(), dtype=float32)\n",
      "Epoch:  12\n",
      "Loss:  tf.Tensor(0.28436556, shape=(), dtype=float32)\n",
      "Epoch:  13\n",
      "Loss:  tf.Tensor(0.2825551, shape=(), dtype=float32)\n",
      "Epoch:  14\n",
      "Loss:  tf.Tensor(0.28098774, shape=(), dtype=float32)\n",
      "Epoch:  15\n",
      "Loss:  tf.Tensor(0.27960542, shape=(), dtype=float32)\n",
      "Epoch:  16\n",
      "Loss:  tf.Tensor(0.2783688, shape=(), dtype=float32)\n",
      "Epoch:  17\n",
      "Loss:  tf.Tensor(0.27725047, shape=(), dtype=float32)\n",
      "Epoch:  18\n",
      "Loss:  tf.Tensor(0.27623072, shape=(), dtype=float32)\n",
      "Epoch:  19\n",
      "Loss:  tf.Tensor(0.27529487, shape=(), dtype=float32)\n",
      "Epoch:  20\n",
      "Loss:  tf.Tensor(0.2744321, shape=(), dtype=float32)\n",
      "Epoch:  21\n",
      "Loss:  tf.Tensor(0.27363348, shape=(), dtype=float32)\n",
      "Epoch:  22\n",
      "Loss:  tf.Tensor(0.27289224, shape=(), dtype=float32)\n",
      "Epoch:  23\n",
      "Loss:  tf.Tensor(0.27220255, shape=(), dtype=float32)\n",
      "Epoch:  24\n",
      "Loss:  tf.Tensor(0.27155966, shape=(), dtype=float32)\n",
      "Epoch:  25\n",
      "Loss:  tf.Tensor(0.27095944, shape=(), dtype=float32)\n",
      "Epoch:  26\n",
      "Loss:  tf.Tensor(0.2703983, shape=(), dtype=float32)\n",
      "Epoch:  27\n",
      "Loss:  tf.Tensor(0.26987302, shape=(), dtype=float32)\n",
      "Epoch:  28\n",
      "Loss:  tf.Tensor(0.26938093, shape=(), dtype=float32)\n",
      "Epoch:  29\n",
      "Loss:  tf.Tensor(0.26891947, shape=(), dtype=float32)\n",
      "Epoch:  30\n",
      "Loss:  tf.Tensor(0.2684864, shape=(), dtype=float32)\n",
      "Epoch:  31\n",
      "Loss:  tf.Tensor(0.26807967, shape=(), dtype=float32)\n",
      "Epoch:  32\n",
      "Loss:  tf.Tensor(0.2676973, shape=(), dtype=float32)\n",
      "Epoch:  33\n",
      "Loss:  tf.Tensor(0.2673377, shape=(), dtype=float32)\n",
      "Epoch:  34\n",
      "Loss:  tf.Tensor(0.2669993, shape=(), dtype=float32)\n",
      "Epoch:  35\n",
      "Loss:  tf.Tensor(0.2666806, shape=(), dtype=float32)\n",
      "Epoch:  36\n",
      "Loss:  tf.Tensor(0.26638028, shape=(), dtype=float32)\n",
      "Epoch:  37\n",
      "Loss:  tf.Tensor(0.2660971, shape=(), dtype=float32)\n",
      "Epoch:  38\n",
      "Loss:  tf.Tensor(0.26582992, shape=(), dtype=float32)\n",
      "Epoch:  39\n",
      "Loss:  tf.Tensor(0.26557773, shape=(), dtype=float32)\n",
      "Epoch:  40\n",
      "Loss:  tf.Tensor(0.26533955, shape=(), dtype=float32)\n",
      "Epoch:  41\n",
      "Loss:  tf.Tensor(0.2651145, shape=(), dtype=float32)\n",
      "Epoch:  42\n",
      "Loss:  tf.Tensor(0.26490158, shape=(), dtype=float32)\n",
      "Epoch:  43\n",
      "Loss:  tf.Tensor(0.2647002, shape=(), dtype=float32)\n",
      "Epoch:  44\n",
      "Loss:  tf.Tensor(0.26450953, shape=(), dtype=float32)\n",
      "Epoch:  45\n",
      "Loss:  tf.Tensor(0.26432896, shape=(), dtype=float32)\n",
      "Epoch:  46\n",
      "Loss:  tf.Tensor(0.26415774, shape=(), dtype=float32)\n",
      "Epoch:  47\n",
      "Loss:  tf.Tensor(0.26399544, shape=(), dtype=float32)\n",
      "Epoch:  48\n",
      "Loss:  tf.Tensor(0.26384145, shape=(), dtype=float32)\n",
      "Epoch:  49\n",
      "Loss:  tf.Tensor(0.26369524, shape=(), dtype=float32)\n"
     ]
    }
   ],
   "source": [
    "#creating an instance of the the class\n",
    "model = GDLinearRegression('zero')\n",
    "model.train(X_train_norm, y_train_norm, lr=0.1, epochs=50)"
   ]
  },
  {
   "cell_type": "code",
   "execution_count": 35,
   "metadata": {},
   "outputs": [],
   "source": [
    "# standard scaling the test data\n",
    "X_test_norm = (X_test-mean_feat)/std_feat\n",
    "# reverse standardization the target\n",
    "y_pred = model.predict(X_test_norm)\n",
    "y_pred *= std_label\n",
    "y_pred += mean_label"
   ]
  },
  {
   "cell_type": "code",
   "execution_count": 36,
   "metadata": {},
   "outputs": [
    {
     "data": {
      "text/plain": [
       "<matplotlib.axes._subplots.AxesSubplot at 0x2ac4ed35a88>"
      ]
     },
     "execution_count": 36,
     "metadata": {},
     "output_type": "execute_result"
    },
    {
     "data": {
      "image/png": "[encoded data removed]",
      "text/plain": [
       "<Figure size 432x288 with 1 Axes>"
      ]
     },
     "metadata": {},
     "output_type": "display_data"
    }
   ],
   "source": [
    "sns.distplot(y_test-y_pred)"
   ]
  },
  {
   "cell_type": "code",
   "execution_count": null,
   "metadata": {},
   "outputs": [],
   "source": []
  }
 ],
 "metadata": {
  "kernelspec": {
   "display_name": "Python 3",
   "language": "python",
   "name": "python3"
  },
  "language_info": {
   "codemirror_mode": {
    "name": "ipython",
    "version": 3
   },
   "file_extension": ".py",
   "mimetype": "text/x-python",
   "name": "python",
   "nbconvert_exporter": "python",
   "pygments_lexer": "ipython3",
   "version": "3.7.6"
  }
 },
 "nbformat": 4,
 "nbformat_minor": 4
}
